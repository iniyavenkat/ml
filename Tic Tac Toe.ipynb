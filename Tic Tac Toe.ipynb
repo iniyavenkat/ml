{
 "cells": [
  {
   "cell_type": "code",
   "execution_count": 18,
   "id": "4f465590",
   "metadata": {},
   "outputs": [
    {
     "name": "stdout",
     "output_type": "stream",
     "text": [
      "Welcome to Tic Tac Toe! Would you like to be x or o?x\n",
      "o|2|3\n",
      "_ _ _\n",
      "4|5|6\n",
      "_ _ _\n",
      "7|8|9\n",
      "_ _ _\n",
      "o|2|3\n",
      "_ _ _\n",
      "4|5|6\n",
      "_ _ _\n",
      "7|8|9\n",
      "_ _ _\n",
      "Pick a number on the board where you would like to place you're piece4\n"
     ]
    }
   ],
   "source": [
    "import numpy as np\n",
    "\n",
    "array=np.array([[1,2,3],[4,5,6],[7,8,9]])\n",
    "\n",
    "def tic_tac_toe_board(board):\n",
    "    for i in range(3):\n",
    "        row = board[i]\n",
    "        print(\"{}|{|{}\".format(row[0], row[1], row[2]))\n",
    "        print(\"_ _ _\")\n",
    "    print(\"\")\n",
    "    \n",
    "def make_move(board, piece, choice):\n",
    "    \n",
    "    \n",
    "user_piece=input(\"Welcome to Tic Tac Toe! Would you like to be x or o?\")\n",
    "tic_tac_toe(array)\n",
    "    \n",
    "user_choice=input(\"Pick a number on the board where you would like to place you're piece\")\n",
    "\n",
    "\n",
    "\n",
    "if user_choice_o==\"1\":\n",
    "    \n",
    "    array=np.array([[\"o\",2,3],[4,5,6],[7,8,9]])\n",
    "    for i in range(3):\n",
    "        row = array[i]\n",
    "        print(\"{}|{}|{}\".format(row[0], row[1], row[2]))\n",
    "        print(\"_ _ _\")\n",
    "    \n",
    "if user_choice_x==\"1\":\n",
    "    \n",
    "    array=np.array([[\"x\",2,3],[4,5,6],[7,8,9]])\n",
    "    for i in range(3):\n",
    "        row = array[i]\n",
    "        print(\"{}|{}|{}\".format(row[0], row[1], row[2]))\n",
    "        print(\"_ _ _\")"
   ]
  },
  {
   "cell_type": "code",
   "execution_count": null,
   "id": "9f24095e",
   "metadata": {},
   "outputs": [],
   "source": []
  },
  {
   "cell_type": "code",
   "execution_count": null,
   "id": "56dfa1e4",
   "metadata": {},
   "outputs": [],
   "source": []
  }
 ],
 "metadata": {
  "kernelspec": {
   "display_name": "Python 3 (ipykernel)",
   "language": "python",
   "name": "python3"
  },
  "language_info": {
   "codemirror_mode": {
    "name": "ipython",
    "version": 3
   },
   "file_extension": ".py",
   "mimetype": "text/x-python",
   "name": "python",
   "nbconvert_exporter": "python",
   "pygments_lexer": "ipython3",
   "version": "3.9.10"
  }
 },
 "nbformat": 4,
 "nbformat_minor": 5
}
