{
 "cells": [
  {
   "cell_type": "code",
   "execution_count": null,
   "metadata": {
    "colab": {
     "base_uri": "https://localhost:8080/",
     "height": 621
    },
    "id": "qBqxaX0qI2ZD",
    "outputId": "c82ab109-8c86-4a8a-c1d5-1761ad03072b"
   },
   "outputs": [
    {
     "name": "stdout",
     "output_type": "stream",
     "text": [
      "Downloading data from https://www.cs.toronto.edu/~kriz/cifar-10-python.tar.gz\n",
      "170500096/170498071 [==============================] - 2s 0us/step\n",
      "(50000, 32, 32, 3)\n",
      "(10000, 32, 32, 3)\n"
     ]
    },
    {
     "data": {
      "image/png": "[encoded data removed]",
      "text/plain": [
       "<Figure size 432x288 with 1 Axes>"
      ]
     },
     "metadata": {
      "tags": []
     },
     "output_type": "display_data"
    },
    {
     "name": "stdout",
     "output_type": "stream",
     "text": [
      "min and max value in image:  30 242\n"
     ]
    },
    {
     "data": {
      "image/png": "[encoded data removed]",
      "text/plain": [
       "<Figure size 432x288 with 1 Axes>"
      ]
     },
     "metadata": {
      "tags": []
     },
     "output_type": "display_data"
    },
    {
     "name": "stdout",
     "output_type": "stream",
     "text": [
      "min and max value in image:  0.11764706 0.9490196\n"
     ]
    }
   ],
   "source": [
    "import tensorflow as tf\n",
    "from tensorflow import keras\n",
    "from tensorflow.keras.datasets import cifar10\n",
    "from tensorflow.keras import backend as K\n",
    "import numpy as np\n",
    "import matplotlib.pyplot as plt\n",
    "%matplotlib inline\n",
    "\n",
    "# helper functions\n",
    "def show_min_max(array, i):\n",
    "  random_image = array[i]\n",
    "  print(\"min and max value in image: \", random_image.min(), random_image.max())\n",
    "\n",
    "\n",
    "def plot_image(array, i, labels):\n",
    "  plt.imshow(np.squeeze(array[i]))\n",
    "  plt.title(str(label_names[labels[i]]))\n",
    "  plt.xticks([])\n",
    "  plt.yticks([])\n",
    "  plt.show()\n",
    "\n",
    "# Variables to keep track of image size - 32 by 32 pixel image size\n",
    "img_rows = 32\n",
    "img_cols = 32  \n",
    "\n",
    "# The number of posssible output classes in this dataset\n",
    "num_classes = 10 \n",
    "\n",
    "# The names of each output class. \n",
    "# The network will use numbers to represent each of these, but you will need to decode the networks guess using this list. \n",
    "label_names=['airplane', 'automobile', 'bird', 'cat', 'deer', 'dog', 'frog', 'horse', 'ship', 'truck']\n",
    "\n",
    "# Load the data in. Just like before, add a backup of untouched images. \n",
    "(train_images, train_labels), (test_images, test_labels) = cifar10.load_data() \n",
    "(train_images_backup, train_labels_backup), (test_images_backup, test_labels_backup) = cifar10.load_data() \n",
    "\n",
    "# Convert the train and test labels to the right kind of list\n",
    "train_labels_backup = [item for sublist in train_labels_backup for item in sublist]\n",
    "test_labels_backup = [item for sublist in test_labels_backup for item in sublist]\n",
    "\n",
    "# Print out the shape of the train and test images to make sure it matches the expectations\n",
    "print(train_images.shape) \n",
    "print(test_images.shape) \n",
    "\n",
    "# Set a variable to keep track of input shape. \n",
    "input_shape = (img_rows, img_cols, 3)\n",
    "\n",
    "# Print out the 100th image\n",
    "plot_image(train_images, 100, train_labels_backup)\n",
    "# Show it's min and max value\n",
    "show_min_max(train_images, 100)\n",
    "\n",
    "# Reformat the data to float32\n",
    "train_images = train_images.astype('float32')\n",
    "test_images = test_images.astype('float32')\n",
    "\n",
    "# Normalize the values by dividing by 255\n",
    "train_images /= 255\n",
    "test_images /= 255\n",
    "\n",
    "# Print out the image and min/max values again to make sure it is normalized\n",
    "plot_image(train_images, 100, train_labels_backup)\n",
    "show_min_max(train_images, 100)\n",
    "\n",
    "# Convert the labels using one-hot encoding \n",
    "train_labels = keras.utils.to_categorical(train_labels, num_classes)\n",
    "test_labels = keras.utils.to_categorical(test_labels, num_classes)"
   ]
  }
 ],
 "metadata": {
  "colab": {
   "collapsed_sections": [],
   "name": "CIFARDataPrep.ipynb",
   "provenance": []
  },
  "kernelspec": {
   "display_name": "Python 3 (ipykernel)",
   "language": "python",
   "name": "python3"
  },
  "language_info": {
   "codemirror_mode": {
    "name": "ipython",
    "version": 3
   },
   "file_extension": ".py",
   "mimetype": "text/x-python",
   "name": "python",
   "nbconvert_exporter": "python",
   "pygments_lexer": "ipython3",
   "version": "3.9.10"
  }
 },
 "nbformat": 4,
 "nbformat_minor": 1
}
