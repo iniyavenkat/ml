{
 "cells": [
  {
   "cell_type": "code",
   "execution_count": 18,
   "id": "4fd1e02f",
   "metadata": {},
   "outputs": [],
   "source": [
    "#number_variable\n",
    "\n",
    "number_of_doughnuts=6"
   ]
  },
  {
   "cell_type": "code",
   "execution_count": 19,
   "id": "0c906127",
   "metadata": {},
   "outputs": [
    {
     "name": "stdout",
     "output_type": "stream",
     "text": [
      "6\n"
     ]
    }
   ],
   "source": [
    "print(number_of_doughnuts)"
   ]
  },
  {
   "cell_type": "code",
   "execution_count": 20,
   "id": "823938c8",
   "metadata": {},
   "outputs": [],
   "source": [
    "#string_variable\n",
    "\n",
    "doughnut_name=\"candy\""
   ]
  },
  {
   "cell_type": "code",
   "execution_count": 21,
   "id": "7ebd0714",
   "metadata": {},
   "outputs": [
    {
     "name": "stdout",
     "output_type": "stream",
     "text": [
      "candy\n"
     ]
    }
   ],
   "source": [
    "print(doughnut_name)"
   ]
  },
  {
   "cell_type": "code",
   "execution_count": 16,
   "id": "1ad6de06",
   "metadata": {},
   "outputs": [],
   "source": [
    "#boolean_variable\n",
    "\n",
    "doughnuts_exist=False"
   ]
  },
  {
   "cell_type": "code",
   "execution_count": 17,
   "id": "e2b1f5a1",
   "metadata": {},
   "outputs": [
    {
     "name": "stdout",
     "output_type": "stream",
     "text": [
      "False\n"
     ]
    }
   ],
   "source": [
    "print(doughnuts_exist)"
   ]
  },
  {
   "cell_type": "code",
   "execution_count": null,
   "id": "c2ff4488",
   "metadata": {},
   "outputs": [],
   "source": []
  }
 ],
 "metadata": {
  "kernelspec": {
   "display_name": "Python 3 (ipykernel)",
   "language": "python",
   "name": "python3"
  },
  "language_info": {
   "codemirror_mode": {
    "name": "ipython",
    "version": 3
   },
   "file_extension": ".py",
   "mimetype": "text/x-python",
   "name": "python",
   "nbconvert_exporter": "python",
   "pygments_lexer": "ipython3",
   "version": "3.9.10"
  }
 },
 "nbformat": 4,
 "nbformat_minor": 5
}
