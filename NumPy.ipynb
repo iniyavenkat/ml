{
 "cells": [
  {
   "cell_type": "code",
   "execution_count": 2,
   "id": "775f5cb5",
   "metadata": {},
   "outputs": [],
   "source": [
    "import numpy as np"
   ]
  },
  {
   "cell_type": "code",
   "execution_count": 3,
   "id": "fa967aed",
   "metadata": {},
   "outputs": [
    {
     "name": "stdout",
     "output_type": "stream",
     "text": [
      "[[1 2]\n",
      " [3 4]]\n"
     ]
    }
   ],
   "source": [
    "array=np.array([[1,2],[3,4]])\n",
    "print(array)"
   ]
  },
  {
   "cell_type": "code",
   "execution_count": 4,
   "id": "5aeb529d",
   "metadata": {},
   "outputs": [
    {
     "name": "stdout",
     "output_type": "stream",
     "text": [
      "(2, 2)\n"
     ]
    }
   ],
   "source": [
    "print(array.shape)"
   ]
  },
  {
   "cell_type": "code",
   "execution_count": 5,
   "id": "c4d739ea",
   "metadata": {},
   "outputs": [
    {
     "name": "stdout",
     "output_type": "stream",
     "text": [
      "[[1 2]\n",
      " [3 4]\n",
      " [5 6]]\n"
     ]
    }
   ],
   "source": [
    "array=np.array([[1,2],[3,4],[5,6]])\n",
    "print(array)"
   ]
  },
  {
   "cell_type": "code",
   "execution_count": 6,
   "id": "cedfa846",
   "metadata": {},
   "outputs": [
    {
     "name": "stdout",
     "output_type": "stream",
     "text": [
      "(3, 2)\n"
     ]
    }
   ],
   "source": [
    "print(array.shape)"
   ]
  },
  {
   "cell_type": "code",
   "execution_count": 10,
   "id": "26e52771",
   "metadata": {},
   "outputs": [
    {
     "name": "stdout",
     "output_type": "stream",
     "text": [
      "1|2|3\n",
      "_ _ _\n",
      "4|5|6\n",
      "_ _ _\n",
      "7|8|9\n",
      "_ _ _\n"
     ]
    }
   ],
   "source": [
    "array=np.array([[1,2,3],[4,5,6],[7,8,9]])\n",
    "for i in range(3):\n",
    "    row = array[i]\n",
    "    print(\"{}|{}|{}\".format(row[0], row[1], row[2]))\n",
    "    print(\"_ _ _\")"
   ]
  },
  {
   "cell_type": "code",
   "execution_count": 12,
   "id": "6f73217f",
   "metadata": {},
   "outputs": [
    {
     "name": "stdout",
     "output_type": "stream",
     "text": [
      "(3, 3)\n"
     ]
    }
   ],
   "source": [
    "print(array.shape)"
   ]
  },
  {
   "cell_type": "code",
   "execution_count": 13,
   "id": "473d5e7a",
   "metadata": {},
   "outputs": [],
   "source": [
    "num1=[1,1,1,1,1]\n",
    "num2=[1,1,1,1,1]"
   ]
  },
  {
   "cell_type": "code",
   "execution_count": 14,
   "id": "f2735e63",
   "metadata": {},
   "outputs": [
    {
     "data": {
      "text/plain": [
       "[1, 1, 1, 1, 1, 1, 1, 1, 1, 1]"
      ]
     },
     "execution_count": 14,
     "metadata": {},
     "output_type": "execute_result"
    }
   ],
   "source": [
    "num1+num2"
   ]
  },
  {
   "cell_type": "code",
   "execution_count": 15,
   "id": "ddc81287",
   "metadata": {},
   "outputs": [
    {
     "name": "stdout",
     "output_type": "stream",
     "text": [
      "[2, 2, 2, 2, 2]\n"
     ]
    }
   ],
   "source": [
    "num1 = [1, 1, 1, 1, 1]\n",
    "\n",
    "num2 = [1, 1, 1, 1, 1]\n",
    "\n",
    "num3 = [ ] #create a holder list\n",
    "\n",
    "\n",
    "for i in range(len(num1)): #a for loop that loops over every value in the loop based on the side of the array\n",
    "\n",
    "    num3.append(num1[i] + num2[i]) #add the sum of the values at the ith position of the arrays and save them to num3\n",
    "\n",
    "\n",
    "print(num3)"
   ]
  },
  {
   "cell_type": "code",
   "execution_count": 17,
   "id": "7dea5838",
   "metadata": {},
   "outputs": [],
   "source": [
    "array1=np.array([1,1,1,1])\n",
    "array2=np.array([1,1,1,1])"
   ]
  },
  {
   "cell_type": "code",
   "execution_count": 18,
   "id": "12ed230e",
   "metadata": {},
   "outputs": [
    {
     "name": "stdout",
     "output_type": "stream",
     "text": [
      "[2 2 2 2]\n"
     ]
    }
   ],
   "source": [
    "print(array1+array2)"
   ]
  },
  {
   "cell_type": "code",
   "execution_count": 19,
   "id": "11d69ea1",
   "metadata": {},
   "outputs": [],
   "source": [
    "array1=np.array([2,3,4])\n",
    "array2=np.array([6,32,7])"
   ]
  },
  {
   "cell_type": "code",
   "execution_count": 21,
   "id": "df9273b4",
   "metadata": {},
   "outputs": [
    {
     "name": "stdout",
     "output_type": "stream",
     "text": [
      "[12 96 28]\n"
     ]
    }
   ],
   "source": [
    "print(array1*array2)"
   ]
  },
  {
   "cell_type": "code",
   "execution_count": 22,
   "id": "88fd49b8",
   "metadata": {},
   "outputs": [],
   "source": [
    "array1=np.array([3,4,5])\n",
    "array2=np.array([6,7,8])"
   ]
  },
  {
   "cell_type": "code",
   "execution_count": 23,
   "id": "d28df389",
   "metadata": {},
   "outputs": [
    {
     "name": "stdout",
     "output_type": "stream",
     "text": [
      "[-3 -3 -3]\n"
     ]
    }
   ],
   "source": [
    "print(array1-array2)"
   ]
  },
  {
   "cell_type": "code",
   "execution_count": 24,
   "id": "879d99de",
   "metadata": {},
   "outputs": [],
   "source": [
    "array1=np.array([9,16,25])\n",
    "array2=np.array([3,4,5])"
   ]
  },
  {
   "cell_type": "code",
   "execution_count": 25,
   "id": "3f33ea1c",
   "metadata": {},
   "outputs": [
    {
     "name": "stdout",
     "output_type": "stream",
     "text": [
      "[3. 4. 5.]\n"
     ]
    }
   ],
   "source": [
    "print(array1/array2)"
   ]
  },
  {
   "cell_type": "code",
   "execution_count": 26,
   "id": "c722f566",
   "metadata": {},
   "outputs": [
    {
     "name": "stdout",
     "output_type": "stream",
     "text": [
      "[ 6  7  8  9 10]\n"
     ]
    }
   ],
   "source": [
    "arr1 = np.array([1, 2, 3, 4, 5])\n",
    "\n",
    "arr2 = np.array([2, 3, 4, 5, 6])\n",
    "\n",
    "print(arr1+5)"
   ]
  },
  {
   "cell_type": "code",
   "execution_count": null,
   "id": "c46a2bdb",
   "metadata": {},
   "outputs": [],
   "source": []
  }
 ],
 "metadata": {
  "kernelspec": {
   "display_name": "Python 3 (ipykernel)",
   "language": "python",
   "name": "python3"
  },
  "language_info": {
   "codemirror_mode": {
    "name": "ipython",
    "version": 3
   },
   "file_extension": ".py",
   "mimetype": "text/x-python",
   "name": "python",
   "nbconvert_exporter": "python",
   "pygments_lexer": "ipython3",
   "version": "3.9.10"
  }
 },
 "nbformat": 4,
 "nbformat_minor": 5
}
