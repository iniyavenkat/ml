{
 "cells": [
  {
   "cell_type": "code",
   "execution_count": 3,
   "id": "a98f47bf",
   "metadata": {},
   "outputs": [],
   "source": [
    "import random"
   ]
  },
  {
   "cell_type": "code",
   "execution_count": 4,
   "id": "91b2280c",
   "metadata": {},
   "outputs": [
    {
     "name": "stdout",
     "output_type": "stream",
     "text": [
      "Welcome to the 8 ball! Tell me to roll the dice when you are ready. Once I have rolled you're dice you will receive a fortune!\n"
     ]
    }
   ],
   "source": [
    "print(\"Welcome to the 8 ball! Tell me to roll the dice when you are ready. Once I have rolled you're dice you will receive a fortune!\")"
   ]
  },
  {
   "cell_type": "code",
   "execution_count": 8,
   "id": "acc9e11f",
   "metadata": {},
   "outputs": [
    {
     "name": "stdout",
     "output_type": "stream",
     "text": [
      "Should I roll the die?yes\n",
      "5\n"
     ]
    }
   ],
   "source": [
    "roll_dice=input(\"Should I roll the die?\")\n",
    "if roll_dice==\"yes\":\n",
    "    roll= random.randint(1,6)\n",
    "    print(roll)\n",
    "    \n",
    "    if roll==1:\n",
    "        print(\"You will lose something very important\")\n",
    "    elif roll==2:\n",
    "        print(\"You will eat something digusting\")\n",
    "    elif roll ==3:\n",
    "        print(\"You will tie at you're next tournament\")\n",
    "    elif roll==4:\n",
    "        print(\"You will get a passing grade on you're next test\")\n",
    "    elif roll==5:\n",
    "        print(\"You will receive something you really like\")\n",
    "    elif roll==6:\n",
    "        print(\"You will win the lottery!\")\n",
    "else:\n",
    "    print(\"Play again later!\")"
   ]
  },
  {
   "cell_type": "code",
   "execution_count": null,
   "id": "cb9f5ad4",
   "metadata": {},
   "outputs": [],
   "source": []
  }
 ],
 "metadata": {
  "kernelspec": {
   "display_name": "Python 3 (ipykernel)",
   "language": "python",
   "name": "python3"
  },
  "language_info": {
   "codemirror_mode": {
    "name": "ipython",
    "version": 3
   },
   "file_extension": ".py",
   "mimetype": "text/x-python",
   "name": "python",
   "nbconvert_exporter": "python",
   "pygments_lexer": "ipython3",
   "version": "3.9.10"
  }
 },
 "nbformat": 4,
 "nbformat_minor": 5
}
