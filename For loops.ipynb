{
 "cells": [
  {
   "cell_type": "code",
   "execution_count": 2,
   "id": "d75ca60f",
   "metadata": {},
   "outputs": [
    {
     "name": "stdout",
     "output_type": "stream",
     "text": [
      "A leaf fell to the ground 0 leaves have fallen.\n",
      "A leaf fell to the ground 1 leaves have fallen.\n",
      "A leaf fell to the ground 2 leaves have fallen.\n",
      "A leaf fell to the ground 3 leaves have fallen.\n",
      "A leaf fell to the ground 4 leaves have fallen.\n",
      "A leaf fell to the ground 5 leaves have fallen.\n",
      "A leaf fell to the ground 6 leaves have fallen.\n",
      "A leaf fell to the ground 7 leaves have fallen.\n",
      "A leaf fell to the ground 8 leaves have fallen.\n",
      "A leaf fell to the ground 9 leaves have fallen.\n",
      "A leaf fell to the ground 10 leaves have fallen.\n",
      "A leaf fell to the ground 11 leaves have fallen.\n",
      "A leaf fell to the ground 12 leaves have fallen.\n",
      "A leaf fell to the ground 13 leaves have fallen.\n",
      "A leaf fell to the ground 14 leaves have fallen.\n",
      "All the leaves fell. For loop complete.\n"
     ]
    }
   ],
   "source": [
    "number_of_leaves = 15\n",
    "\n",
    "for x in range(0, number_of_leaves):\n",
    "    print(\"A leaf fell to the ground \" +\n",
    "    str(x) + \" leaves have fallen.\")\n",
    "\n",
    "print(\"All the leaves fell. For loop complete.\")"
   ]
  },
  {
   "cell_type": "code",
   "execution_count": null,
   "id": "ad6a3e3c",
   "metadata": {},
   "outputs": [],
   "source": []
  }
 ],
 "metadata": {
  "kernelspec": {
   "display_name": "Python 3 (ipykernel)",
   "language": "python",
   "name": "python3"
  },
  "language_info": {
   "codemirror_mode": {
    "name": "ipython",
    "version": 3
   },
   "file_extension": ".py",
   "mimetype": "text/x-python",
   "name": "python",
   "nbconvert_exporter": "python",
   "pygments_lexer": "ipython3",
   "version": "3.9.10"
  }
 },
 "nbformat": 4,
 "nbformat_minor": 5
}
