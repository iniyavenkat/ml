{
 "cells": [
  {
   "cell_type": "code",
   "execution_count": 11,
   "id": "5529b3e7",
   "metadata": {},
   "outputs": [],
   "source": [
    "import random\n",
    "\n",
    "def random_number():\n",
    "    rand=random.randrange(0,max_int)\n",
    "    return rand"
   ]
  },
  {
   "cell_type": "code",
   "execution_count": 12,
   "id": "5cd378fc",
   "metadata": {},
   "outputs": [
    {
     "ename": "TypeError",
     "evalue": "random_number() takes 0 positional arguments but 1 was given",
     "output_type": "error",
     "traceback": [
      "\u001b[1;31m---------------------------------------------------------------------------\u001b[0m",
      "\u001b[1;31mTypeError\u001b[0m                                 Traceback (most recent call last)",
      "Input \u001b[1;32mIn [12]\u001b[0m, in \u001b[0;36m<module>\u001b[1;34m\u001b[0m\n\u001b[1;32m----> 1\u001b[0m a_number\u001b[38;5;241m=\u001b[39m\u001b[43mrandom_number\u001b[49m\u001b[43m(\u001b[49m\u001b[38;5;241;43m5\u001b[39;49m\u001b[43m)\u001b[49m\n\u001b[0;32m      2\u001b[0m \u001b[38;5;28mprint\u001b[39m(a_number)\n",
      "\u001b[1;31mTypeError\u001b[0m: random_number() takes 0 positional arguments but 1 was given"
     ]
    }
   ],
   "source": [
    "a_number=random_number(5)\n",
    "print(a_number)"
   ]
  },
  {
   "cell_type": "code",
   "execution_count": null,
   "id": "dd91838f",
   "metadata": {},
   "outputs": [],
   "source": [
    "def random_number(max_int)"
   ]
  }
 ],
 "metadata": {
  "kernelspec": {
   "display_name": "Python 3 (ipykernel)",
   "language": "python",
   "name": "python3"
  },
  "language_info": {
   "codemirror_mode": {
    "name": "ipython",
    "version": 3
   },
   "file_extension": ".py",
   "mimetype": "text/x-python",
   "name": "python",
   "nbconvert_exporter": "python",
   "pygments_lexer": "ipython3",
   "version": "3.9.10"
  }
 },
 "nbformat": 4,
 "nbformat_minor": 5
}
