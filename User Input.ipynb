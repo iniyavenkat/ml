{
 "cells": [
  {
   "cell_type": "code",
   "execution_count": 1,
   "id": "04ce9e14",
   "metadata": {},
   "outputs": [
    {
     "name": "stdout",
     "output_type": "stream",
     "text": [
      "input you're asking forthen you can type!\n"
     ]
    },
    {
     "data": {
      "text/plain": [
       "'then you can type!'"
      ]
     },
     "execution_count": 1,
     "metadata": {},
     "output_type": "execute_result"
    }
   ],
   "source": [
    "input(\"input you're asking for\")"
   ]
  },
  {
   "cell_type": "code",
   "execution_count": 10,
   "id": "8cb4f22d",
   "metadata": {},
   "outputs": [
    {
     "name": "stdout",
     "output_type": "stream",
     "text": [
      "What is your name?\n",
      "iniya\n",
      "iniya\n"
     ]
    }
   ],
   "source": [
    "name=input(\"What is your name?\\n\")\n",
    "print(name)"
   ]
  },
  {
   "cell_type": "code",
   "execution_count": 13,
   "id": "162313a2",
   "metadata": {},
   "outputs": [
    {
     "name": "stdout",
     "output_type": "stream",
     "text": [
      "heyiniyahow are you\n"
     ]
    }
   ],
   "source": [
    "print(\"hey\" + name + \"how are you\")"
   ]
  },
  {
   "cell_type": "code",
   "execution_count": 14,
   "id": "10204b92",
   "metadata": {},
   "outputs": [],
   "source": [
    "age=14"
   ]
  },
  {
   "cell_type": "code",
   "execution_count": 15,
   "id": "be5c58c4",
   "metadata": {},
   "outputs": [],
   "source": [
    "age_as_word=str(age)"
   ]
  },
  {
   "cell_type": "code",
   "execution_count": 16,
   "id": "68481ecd",
   "metadata": {},
   "outputs": [
    {
     "name": "stdout",
     "output_type": "stream",
     "text": [
      "you're14\n"
     ]
    }
   ],
   "source": [
    "print(\"you're\" + age_as_word)"
   ]
  },
  {
   "cell_type": "code",
   "execution_count": 18,
   "id": "e6fb52ba",
   "metadata": {},
   "outputs": [],
   "source": [
    "age=\"14\""
   ]
  },
  {
   "cell_type": "code",
   "execution_count": 19,
   "id": "c2c1f744",
   "metadata": {},
   "outputs": [],
   "source": [
    "age_as_number=int(age)"
   ]
  },
  {
   "cell_type": "code",
   "execution_count": 20,
   "id": "5318a0c8",
   "metadata": {},
   "outputs": [
    {
     "name": "stdout",
     "output_type": "stream",
     "text": [
      "17\n"
     ]
    }
   ],
   "source": [
    "print(age_as_number +3)"
   ]
  },
  {
   "cell_type": "code",
   "execution_count": null,
   "id": "38e9a44c",
   "metadata": {},
   "outputs": [],
   "source": []
  }
 ],
 "metadata": {
  "kernelspec": {
   "display_name": "Python 3 (ipykernel)",
   "language": "python",
   "name": "python3"
  },
  "language_info": {
   "codemirror_mode": {
    "name": "ipython",
    "version": 3
   },
   "file_extension": ".py",
   "mimetype": "text/x-python",
   "name": "python",
   "nbconvert_exporter": "python",
   "pygments_lexer": "ipython3",
   "version": "3.9.10"
  }
 },
 "nbformat": 4,
 "nbformat_minor": 5
}
