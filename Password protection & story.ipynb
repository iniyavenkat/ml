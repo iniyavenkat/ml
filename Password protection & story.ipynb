{
 "cells": [
  {
   "cell_type": "code",
   "execution_count": null,
   "id": "cb94276a",
   "metadata": {},
   "outputs": [],
   "source": [
    "password=input(\"What's the password?\")\n",
    "\n",
    "if password==\"PErCyJ@ack$on\":\n",
    "    print(\"Once upon a time there was a little bear named chocolate\")\n",
    "    print(\"Chocolate was walking in the woods all by himself trying to find his home\")\n",
    "    print(\"While he was strolling through the woods a ghost stopped him and asked for a cookie\")\n",
    "    print(\"Chocolate was frightened but did not have a cookie so he told the ghost to come to his home\")\n",
    "    print(\"The ghost and Chocolate walked all the way to his house only to find that there was no cookie\")\n",
    "else:\n",
    "    print(\"Sorry, thats not the right password.\")"
   ]
  }
 ],
 "metadata": {
  "kernelspec": {
   "display_name": "Python 3 (ipykernel)",
   "language": "python",
   "name": "python3"
  },
  "language_info": {
   "codemirror_mode": {
    "name": "ipython",
    "version": 3
   },
   "file_extension": ".py",
   "mimetype": "text/x-python",
   "name": "python",
   "nbconvert_exporter": "python",
   "pygments_lexer": "ipython3",
   "version": "3.9.10"
  }
 },
 "nbformat": 4,
 "nbformat_minor": 5
}
