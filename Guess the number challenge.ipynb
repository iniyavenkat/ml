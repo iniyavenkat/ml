{
 "cells": [
  {
   "cell_type": "code",
   "execution_count": 21,
   "id": "48336927",
   "metadata": {},
   "outputs": [
    {
     "name": "stdout",
     "output_type": "stream",
     "text": [
      "Guess a number100\n",
      "You're number is too low\n",
      "Guess a number300\n",
      "You're number is too low\n",
      "Guess a number500\n",
      "You're number is too high\n",
      "Guess a number400\n",
      "You're number is too low\n",
      "Guess a number450\n",
      "You're number is too low\n",
      "Guess a number460\n",
      "You're number is too high\n",
      "Guess a number455\n",
      "You're number is too high\n",
      "Guess a number454\n",
      "you win!It took you 8 attempts!\n"
     ]
    }
   ],
   "source": [
    "guessed=False\n",
    "import random\n",
    "number=random.randint(1,1000)\n",
    "death_number=random.randint(1,100)\n",
    "tries=0\n",
    "\n",
    "while not guessed:\n",
    "    guess = input(\"Guess a number\")\n",
    "    tries+=1\n",
    "    if int(guess)==number:\n",
    "        print(\"you win!It took you \"+ str(tries)+ \" attempts!\")\n",
    "        guessed=True\n",
    "    elif int(guess)<number:\n",
    "        print(\"You're number is too low\")\n",
    "    elif int(guess)>number:\n",
    "        print(\"You're number is too high\")\n",
    "    elif int(guess)==death_number:\n",
    "        print(\"Game over!\")\n"
   ]
  },
  {
   "cell_type": "code",
   "execution_count": null,
   "id": "fc9646fc",
   "metadata": {},
   "outputs": [],
   "source": []
  }
 ],
 "metadata": {
  "kernelspec": {
   "display_name": "Python 3 (ipykernel)",
   "language": "python",
   "name": "python3"
  },
  "language_info": {
   "codemirror_mode": {
    "name": "ipython",
    "version": 3
   },
   "file_extension": ".py",
   "mimetype": "text/x-python",
   "name": "python",
   "nbconvert_exporter": "python",
   "pygments_lexer": "ipython3",
   "version": "3.9.10"
  }
 },
 "nbformat": 4,
 "nbformat_minor": 5
}
