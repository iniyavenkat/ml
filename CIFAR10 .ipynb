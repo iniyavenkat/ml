{
 "cells": [
  {
   "cell_type": "code",
   "execution_count": 3,
   "id": "c65ee19f",
   "metadata": {},
   "outputs": [
    {
     "data": {
      "image/png": "[encoded data removed]",
      "text/plain": [
       "<Figure size 432x288 with 1 Axes>"
      ]
     },
     "metadata": {},
     "output_type": "display_data"
    },
    {
     "name": "stdout",
     "output_type": "stream",
     "text": [
      "0 242\n",
      "(50000, 32, 32, 3)\n",
      "(10000, 32, 32, 3)\n"
     ]
    },
    {
     "data": {
      "image/png": "[encoded data removed]",
      "text/plain": [
       "<Figure size 432x288 with 1 Axes>"
      ]
     },
     "metadata": {},
     "output_type": "display_data"
    },
    {
     "name": "stdout",
     "output_type": "stream",
     "text": [
      "0.0 0.9490196\n"
     ]
    }
   ],
   "source": [
    "import tensorflow as tf\n",
    "from tensorflow import keras\n",
    "from tensorflow.keras.datasets import cifar10\n",
    "from tensorflow.keras import backend as K\n",
    "import numpy as np\n",
    "import matplotlib.pyplot as plt\n",
    "%matplotlib inline\n",
    "\n",
    "# helper functions\n",
    "def show_min_max(array, i):\n",
    "    random_image = array[i]\n",
    "    print(random_image.min(), random_image.max())\n",
    "\n",
    "def plot_image(array, i, labels):\n",
    "    plt.imshow(np.squeeze(array[i]))\n",
    "    plt.title(\" Digit \" + str(labels[i]))\n",
    "    plt.xticks([])\n",
    "    plt.yticks([])\n",
    "    plt.show()\n",
    "    \n",
    "#Variables to keep track of image size\n",
    "img_rows, img_cols = 32, 32\n",
    "\n",
    "# The number of posssible output classes in this dataset\n",
    "num_classes = 10\n",
    "\n",
    "# The names of each output class. \n",
    "# The network will use numbers to represent each of these, but you will need to decode the networks guess using this list. \n",
    "label_names=['airplane', 'automobile', 'bird', 'cat', 'deer', 'dog', 'frog', 'horse', 'ship', 'truck']\n",
    "\n",
    "(train_images, train_labels), (test_images, test_labels) = cifar10.load_data()\n",
    "(train_images_backup, train_labels_backup), (test_images_backup, test_labels_backup) = cifar10.load_data()\n",
    "\n",
    "# Convert the train and test labels to the right kind of list\n",
    "train_labels_backup = [item for sublist in train_labels_backup for item in sublist] \n",
    "test_labels_backup = [item for sublist in test_labels_backup for item in sublist] \n",
    "\n",
    "input_shape = (img_rows, img_cols, 3)\n",
    "\n",
    "# Print out the 100th image\n",
    "plot_image(train_images, 2978, train_labels_backup)\n",
    "# Show it's min and max value\n",
    "show_min_max(train_images, 2978)\n",
    "\n",
    "print(train_images.shape) \n",
    "print(test_images.shape)\n",
    "\n",
    "#Convert the images to the float32 data type\n",
    "train_images = train_images.astype('float32') \n",
    "test_images = test_images.astype('float32') \n",
    "\n",
    "#Normalize the data into values between 0 and 1\n",
    "train_images /= 255\n",
    "test_images /= 255\n",
    "\n",
    "plot_image(train_images, 2978, train_labels) \n",
    "show_min_max(train_images, 2978)\n",
    "\n",
    "train_labels = keras.utils.to_categorical(train_labels, num_classes) \n",
    "test_labels = keras.utils.to_categorical(test_labels, num_classes)"
   ]
  },
  {
   "cell_type": "code",
   "execution_count": 6,
   "id": "ee8596ac",
   "metadata": {},
   "outputs": [
    {
     "name": "stdout",
     "output_type": "stream",
     "text": [
      "Model: \"sequential_3\"\n",
      "_________________________________________________________________\n",
      " Layer (type)                Output Shape              Param #   \n",
      "=================================================================\n",
      " conv2d_10 (Conv2D)          (None, 30, 30, 32)        896       \n",
      "                                                                 \n",
      " conv2d_11 (Conv2D)          (None, 28, 28, 64)        18496     \n",
      "                                                                 \n",
      " max_pooling2d_6 (MaxPooling  (None, 14, 14, 64)       0         \n",
      " 2D)                                                             \n",
      "                                                                 \n",
      " dropout_6 (Dropout)         (None, 14, 14, 64)        0         \n",
      "                                                                 \n",
      " batch_normalization_6 (Batc  (None, 14, 14, 64)       256       \n",
      " hNormalization)                                                 \n",
      "                                                                 \n",
      " conv2d_12 (Conv2D)          (None, 12, 12, 32)        18464     \n",
      "                                                                 \n",
      " max_pooling2d_7 (MaxPooling  (None, 6, 6, 32)         0         \n",
      " 2D)                                                             \n",
      "                                                                 \n",
      " dropout_7 (Dropout)         (None, 6, 6, 32)          0         \n",
      "                                                                 \n",
      " batch_normalization_7 (Batc  (None, 6, 6, 32)         128       \n",
      " hNormalization)                                                 \n",
      "                                                                 \n",
      " conv2d_13 (Conv2D)          (None, 4, 4, 32)          9248      \n",
      "                                                                 \n",
      " conv2d_14 (Conv2D)          (None, 2, 2, 64)          18496     \n",
      "                                                                 \n",
      " max_pooling2d_8 (MaxPooling  (None, 1, 1, 64)         0         \n",
      " 2D)                                                             \n",
      "                                                                 \n",
      " dropout_8 (Dropout)         (None, 1, 1, 64)          0         \n",
      "                                                                 \n",
      " batch_normalization_8 (Batc  (None, 1, 1, 64)         256       \n",
      " hNormalization)                                                 \n",
      "                                                                 \n",
      " flatten_2 (Flatten)         (None, 64)                0         \n",
      "                                                                 \n",
      " dense_4 (Dense)             (None, 128)               8320      \n",
      "                                                                 \n",
      " dense_5 (Dense)             (None, 10)                1290      \n",
      "                                                                 \n",
      "=================================================================\n",
      "Total params: 75,850\n",
      "Trainable params: 75,530\n",
      "Non-trainable params: 320\n",
      "_________________________________________________________________\n",
      "Epoch 1/10\n",
      "782/782 [==============================] - 96s 122ms/step - loss: 1.7895 - accuracy: 0.3387 - val_loss: 1.6523 - val_accuracy: 0.4116\n",
      "Epoch 2/10\n",
      "782/782 [==============================] - 95s 122ms/step - loss: 1.4103 - accuracy: 0.4882 - val_loss: 1.2771 - val_accuracy: 0.5372\n",
      "Epoch 3/10\n",
      "782/782 [==============================] - 95s 122ms/step - loss: 1.2713 - accuracy: 0.5428 - val_loss: 1.2162 - val_accuracy: 0.5698\n",
      "Epoch 4/10\n",
      "782/782 [==============================] - 96s 123ms/step - loss: 1.1714 - accuracy: 0.5799 - val_loss: 1.1443 - val_accuracy: 0.5903\n",
      "Epoch 5/10\n",
      "782/782 [==============================] - 96s 122ms/step - loss: 1.1060 - accuracy: 0.6092 - val_loss: 1.0268 - val_accuracy: 0.6353\n",
      "Epoch 6/10\n",
      "782/782 [==============================] - 95s 122ms/step - loss: 1.0482 - accuracy: 0.6288 - val_loss: 0.9549 - val_accuracy: 0.6640\n",
      "Epoch 7/10\n",
      "782/782 [==============================] - 96s 122ms/step - loss: 1.0031 - accuracy: 0.6446 - val_loss: 0.9071 - val_accuracy: 0.6792\n",
      "Epoch 8/10\n",
      "782/782 [==============================] - 96s 123ms/step - loss: 0.9691 - accuracy: 0.6585 - val_loss: 0.9380 - val_accuracy: 0.6682\n",
      "Epoch 9/10\n",
      "782/782 [==============================] - 96s 122ms/step - loss: 0.9370 - accuracy: 0.6704 - val_loss: 0.8262 - val_accuracy: 0.7121\n",
      "Epoch 10/10\n",
      "782/782 [==============================] - 96s 122ms/step - loss: 0.9185 - accuracy: 0.6763 - val_loss: 0.8571 - val_accuracy: 0.6993\n",
      "Test accuracy: 0.6992999911308289\n"
     ]
    }
   ],
   "source": [
    "from tensorflow.keras.models import Sequential \n",
    "from tensorflow.keras.layers import Dense, Dropout, Flatten, Conv2D, MaxPooling2D, BatchNormalization \n",
    "\n",
    "epochs=10\n",
    "batch_size=64\n",
    "model=Sequential()\n",
    "\n",
    "model.add(Conv2D(filters=32, kernel_size=(3, 3), activation='relu', input_shape=input_shape))\n",
    "model.add(Conv2D(filters=64, kernel_size=(3, 3), activation='softplus'))\n",
    "model.add(MaxPooling2D(pool_size=(2, 2)))\n",
    "model.add(Dropout(rate=0.2))\n",
    "model.add(BatchNormalization())\n",
    "\n",
    "model.add(Conv2D(filters=32, kernel_size=(3, 3), activation='relu'))\n",
    "model.add(MaxPooling2D(pool_size=(2, 2)))\n",
    "model.add(Dropout(rate=0.3))\n",
    "model.add(BatchNormalization())\n",
    "\n",
    "model.add(Conv2D(filters=32, kernel_size=(3, 3),activation='relu')) \n",
    "model.add(Conv2D(filters=64, kernel_size=(3, 3),activation='relu')) \n",
    "model.add(MaxPooling2D(pool_size=(2, 2)))\n",
    "model.add(Dropout(rate=0.3))\n",
    "model.add(BatchNormalization())\n",
    "\n",
    "model.add(Flatten())\n",
    "model.add(Dense(units=128, activation='softplus')) \n",
    "model.add(Dense(units=num_classes, activation='softmax')) \n",
    "\n",
    "model.summary()\n",
    "\n",
    "model.compile(loss=keras.losses.categorical_crossentropy, optimizer='adam', metrics=['accuracy'])\n",
    "model.fit(train_images, train_labels, batch_size=batch_size, epochs=epochs, validation_data=(test_images, test_labels), shuffle=True)\n",
    "scores = model.evaluate(test_images, test_labels,verbose=0) \n",
    "print('Test accuracy:', scores[1])"
   ]
  },
  {
   "cell_type": "code",
   "execution_count": null,
   "id": "cdcf1e53",
   "metadata": {},
   "outputs": [],
   "source": []
  }
 ],
 "metadata": {
  "kernelspec": {
   "display_name": "Python 3 (ipykernel)",
   "language": "python",
   "name": "python3"
  },
  "language_info": {
   "codemirror_mode": {
    "name": "ipython",
    "version": 3
   },
   "file_extension": ".py",
   "mimetype": "text/x-python",
   "name": "python",
   "nbconvert_exporter": "python",
   "pygments_lexer": "ipython3",
   "version": "3.9.10"
  }
 },
 "nbformat": 4,
 "nbformat_minor": 5
}
