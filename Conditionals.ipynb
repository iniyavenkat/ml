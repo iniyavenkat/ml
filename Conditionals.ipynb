{
 "cells": [
  {
   "cell_type": "code",
   "execution_count": 5,
   "id": "0ef8d1e7",
   "metadata": {},
   "outputs": [],
   "source": [
    "#if statements ... runs a block of code based on weather a condition is true\n",
    "\n",
    "a=6\n",
    "b=3"
   ]
  },
  {
   "cell_type": "code",
   "execution_count": 6,
   "id": "d03fbbdd",
   "metadata": {},
   "outputs": [
    {
     "name": "stdout",
     "output_type": "stream",
     "text": [
      "a is greater than b\n"
     ]
    }
   ],
   "source": [
    "if a>b:\n",
    "    print(\"a is greater than b\")"
   ]
  },
  {
   "cell_type": "code",
   "execution_count": 8,
   "id": "0a7c0eb2",
   "metadata": {},
   "outputs": [
    {
     "name": "stdout",
     "output_type": "stream",
     "text": [
      "2\n",
      "2\n"
     ]
    }
   ],
   "source": [
    "x=2\n",
    "print(x)\n",
    "\n",
    "if x>3:\n",
    "    x+=2\n",
    "print(x)"
   ]
  },
  {
   "cell_type": "code",
   "execution_count": 9,
   "id": "06b796b6",
   "metadata": {},
   "outputs": [],
   "source": [
    "has_key=True"
   ]
  },
  {
   "cell_type": "code",
   "execution_count": 11,
   "id": "6509ab5b",
   "metadata": {},
   "outputs": [
    {
     "name": "stdout",
     "output_type": "stream",
     "text": [
      "You won! Unlock the door with the key!\n"
     ]
    }
   ],
   "source": [
    "if has_key==True:\n",
    "    print(\"You won! Unlock the door with the key!\")"
   ]
  },
  {
   "cell_type": "code",
   "execution_count": 12,
   "id": "f3bba86c",
   "metadata": {},
   "outputs": [
    {
     "name": "stdout",
     "output_type": "stream",
     "text": [
      "True\n"
     ]
    }
   ],
   "source": [
    "print(5>4)"
   ]
  },
  {
   "cell_type": "code",
   "execution_count": 13,
   "id": "48afc190",
   "metadata": {},
   "outputs": [
    {
     "name": "stdout",
     "output_type": "stream",
     "text": [
      "True\n"
     ]
    }
   ],
   "source": [
    "print(10==10)"
   ]
  },
  {
   "cell_type": "code",
   "execution_count": 14,
   "id": "52854686",
   "metadata": {},
   "outputs": [
    {
     "name": "stdout",
     "output_type": "stream",
     "text": [
      "True\n"
     ]
    }
   ],
   "source": [
    "print(5<10)"
   ]
  },
  {
   "cell_type": "code",
   "execution_count": 16,
   "id": "0dca6904",
   "metadata": {},
   "outputs": [
    {
     "name": "stdout",
     "output_type": "stream",
     "text": [
      "You could be in college.\n"
     ]
    }
   ],
   "source": [
    "player_age = 23\n",
    "\n",
    "if player_age >= 18:\n",
    "    print(\"You could be in college.\")\n",
    "elif player_age >= 13:\n",
    "    print(\"You can also attend iD Academies!\")\n",
    "elif player_age >= 7:\n",
    "    print(\"You can attend iD Tech Camps!\")\n",
    "else:\n",
    "    print(\"You're young.\")"
   ]
  },
  {
   "cell_type": "code",
   "execution_count": 18,
   "id": "e52412b9",
   "metadata": {},
   "outputs": [
    {
     "name": "stdout",
     "output_type": "stream",
     "text": [
      "You won the game!\n"
     ]
    }
   ],
   "source": [
    "player_has_item = True\n",
    "score = 150\n",
    "won = False\n",
    "\n",
    "if player_has_item and score > 100:\n",
    "    won = True\n",
    "\n",
    "if not won:\n",
    "    print(\"You haven't beaten the game yet.\")\n",
    "elif won:\n",
    "    print(\"You won the game!\")"
   ]
  },
  {
   "cell_type": "code",
   "execution_count": 20,
   "id": "919ab043",
   "metadata": {},
   "outputs": [
    {
     "name": "stdout",
     "output_type": "stream",
     "text": [
      "You won the game!\n"
     ]
    }
   ],
   "source": [
    "player_has_item = False\n",
    "score = 210\n",
    "won = False\n",
    "\n",
    "if player_has_item or score > 200:\n",
    "    won = True\n",
    "\n",
    "if not won:\n",
    "    print(\"You haven't beaten the game yet.\")\n",
    "elif won:\n",
    "    print(\"You won the game!\")"
   ]
  },
  {
   "cell_type": "code",
   "execution_count": 27,
   "id": "076c9255",
   "metadata": {
    "scrolled": true
   },
   "outputs": [
    {
     "name": "stdout",
     "output_type": "stream",
     "text": [
      "Guess the number 101\n",
      "Your guess is too high.\n",
      "Guess the number 90\n",
      "Your guess is too high.\n",
      "Guess the number 70\n",
      "Your guess is too high.\n",
      "Guess the number 40\n",
      "Your guess is too low.\n",
      "Guess the number 60\n",
      "Your guess is too low.\n",
      "Guess the number 65\n",
      "Your guess is too high.\n",
      "Guess the number 54\n",
      "Your guess is too low.\n",
      "Guess the number 64\n",
      "You got it!\n"
     ]
    }
   ],
   "source": [
    "import random\n",
    "\n",
    "computer_number = random.randrange(0, 101)\n",
    "\n",
    "guessed = False\n",
    "\n",
    "while True:\n",
    "    if not guessed:\n",
    "        answer = input(\"Guess the number \")\n",
    "        if int(answer) == computer_number:\n",
    "            guessed = True\n",
    "            print(\"You got it!\")\n",
    "            break\n",
    "        elif int(answer) > computer_number:\n",
    "            print(\"Your guess is too high.\")\n",
    "        else:\n",
    "            print(\"Your guess is too low.\")\n",
    "\n",
    "    else:\n",
    "        break"
   ]
  },
  {
   "cell_type": "code",
   "execution_count": null,
   "id": "27095782",
   "metadata": {},
   "outputs": [],
   "source": []
  }
 ],
 "metadata": {
  "kernelspec": {
   "display_name": "Python 3 (ipykernel)",
   "language": "python",
   "name": "python3"
  },
  "language_info": {
   "codemirror_mode": {
    "name": "ipython",
    "version": 3
   },
   "file_extension": ".py",
   "mimetype": "text/x-python",
   "name": "python",
   "nbconvert_exporter": "python",
   "pygments_lexer": "ipython3",
   "version": "3.9.10"
  }
 },
 "nbformat": 4,
 "nbformat_minor": 5
}
