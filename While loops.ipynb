{
 "cells": [
  {
   "cell_type": "code",
   "execution_count": 6,
   "id": "5c8020b5",
   "metadata": {},
   "outputs": [
    {
     "name": "stdout",
     "output_type": "stream",
     "text": [
      "pick a number14\n",
      "you win!\n"
     ]
    }
   ],
   "source": [
    "guessed=False\n",
    "\n",
    "while not guessed:\n",
    "    guess = input(\"pick a number\")\n",
    "    if int(guess)==14:\n",
    "        guessed=True\n",
    "        \n",
    "print(\"you win!\")"
   ]
  },
  {
   "cell_type": "code",
   "execution_count": null,
   "id": "5e970bb9",
   "metadata": {},
   "outputs": [],
   "source": []
  }
 ],
 "metadata": {
  "kernelspec": {
   "display_name": "Python 3 (ipykernel)",
   "language": "python",
   "name": "python3"
  },
  "language_info": {
   "codemirror_mode": {
    "name": "ipython",
    "version": 3
   },
   "file_extension": ".py",
   "mimetype": "text/x-python",
   "name": "python",
   "nbconvert_exporter": "python",
   "pygments_lexer": "ipython3",
   "version": "3.9.10"
  }
 },
 "nbformat": 4,
 "nbformat_minor": 5
}
